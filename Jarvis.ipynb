{
  "cells": [
    {
      "cell_type": "code",
      "execution_count": 1,
      "metadata": {
        "colab": {
          "base_uri": "https://localhost:8080/"
        },
        "id": "3Wsg4jrus2Kg",
        "outputId": "e3a82742-f032-4960-f9d5-49bf1747e681"
      },
      "outputs": [],
      "source": [
        "# !python -m pip install --upgrade pip"
      ]
    },
    {
      "cell_type": "code",
      "execution_count": 2,
      "metadata": {
        "colab": {
          "base_uri": "https://localhost:8080/"
        },
        "id": "34DBvSu3FRsN",
        "outputId": "5abc27f6-bda8-4ce0-c782-2035586977a9"
      },
      "outputs": [],
      "source": [
        "# !pip install --quiet langchain langchain-community langchain-mistralai"
      ]
    },
    {
      "cell_type": "code",
      "execution_count": 3,
      "metadata": {
        "id": "Ozl8aQwFGwvA"
      },
      "outputs": [],
      "source": [
        "# !pip install --quiet google-api-python-client"
      ]
    },
    {
      "cell_type": "code",
      "execution_count": 4,
      "metadata": {
        "id": "D_X0lNTzI_KI"
      },
      "outputs": [],
      "source": [
        "# !pip install --quiet peewee"
      ]
    },
    {
      "cell_type": "code",
      "execution_count": 5,
      "metadata": {
        "colab": {
          "base_uri": "https://localhost:8080/"
        },
        "id": "1RAiEz_RuK32",
        "outputId": "89571803-85a3-45e4-c5b2-8d79a72e0185"
      },
      "outputs": [],
      "source": [
        "# !pip install RealtimeTTS"
      ]
    },
    {
      "cell_type": "code",
      "execution_count": 6,
      "metadata": {},
      "outputs": [
        {
          "name": "stdout",
          "output_type": "stream",
          "text": [
            "Collecting duckduckgo-search\n",
            "  Downloading duckduckgo_search-6.1.4-py3-none-any.whl.metadata (18 kB)\n",
            "Requirement already satisfied: click>=8.1.7 in c:\\users\\andrew\\desktop\\jarvis\\venv\\lib\\site-packages (from duckduckgo-search) (8.1.7)\n",
            "Collecting pyreqwest-impersonate>=0.4.7 (from duckduckgo-search)\n",
            "  Downloading pyreqwest_impersonate-0.4.7-cp310-none-win_amd64.whl.metadata (9.8 kB)\n",
            "Requirement already satisfied: orjson>=3.10.3 in c:\\users\\andrew\\desktop\\jarvis\\venv\\lib\\site-packages (from duckduckgo-search) (3.10.3)\n",
            "Requirement already satisfied: colorama in c:\\users\\andrew\\desktop\\jarvis\\venv\\lib\\site-packages (from click>=8.1.7->duckduckgo-search) (0.4.6)\n",
            "Downloading duckduckgo_search-6.1.4-py3-none-any.whl (24 kB)\n",
            "Downloading pyreqwest_impersonate-0.4.7-cp310-none-win_amd64.whl (2.6 MB)\n",
            "   ---------------------------------------- 0.0/2.6 MB ? eta -:--:--\n",
            "    --------------------------------------- 0.0/2.6 MB 1.9 MB/s eta 0:00:02\n",
            "   --- ------------------------------------ 0.2/2.6 MB 2.8 MB/s eta 0:00:01\n",
            "   -------- ------------------------------- 0.5/2.6 MB 4.2 MB/s eta 0:00:01\n",
            "   ----------------- ---------------------- 1.1/2.6 MB 6.3 MB/s eta 0:00:01\n",
            "   ------------------------- -------------- 1.6/2.6 MB 8.1 MB/s eta 0:00:01\n",
            "   -------------------------------- ------- 2.1/2.6 MB 7.8 MB/s eta 0:00:01\n",
            "   ---------------------------------------  2.6/2.6 MB 8.6 MB/s eta 0:00:01\n",
            "   ---------------------------------------- 2.6/2.6 MB 7.8 MB/s eta 0:00:00\n",
            "Installing collected packages: pyreqwest-impersonate, duckduckgo-search\n",
            "Successfully installed duckduckgo-search-6.1.4 pyreqwest-impersonate-0.4.7\n"
          ]
        }
      ],
      "source": [
        "# !pip install duckduckgo-search"
      ]
    },
    {
      "cell_type": "markdown",
      "metadata": {
        "id": "kZiA9UXeF6tD"
      },
      "source": [
        "Callbacks\n"
      ]
    },
    {
      "cell_type": "code",
      "execution_count": 1,
      "metadata": {
        "id": "YAx2Gz_EF8It"
      },
      "outputs": [],
      "source": [
        "from queue import SimpleQueue\n",
        "from langchain.callbacks.base import BaseCallbackHandler\n",
        "from langchain.schema import LLMResult\n",
        "from typing import Any, Union, Dict, List\n",
        "from RealtimeTTS import TextToAudioStream, GTTSEngine, SystemEngine\n",
        "from langchain_core.messages import AIMessage, HumanMessage\n",
        "\n",
        "engine = SystemEngine()\n",
        "stream = TextToAudioStream(engine)\n",
        "\n",
        "q = SimpleQueue()\n",
        "chat_history = []\n",
        "\n",
        "job_done = object()\n",
        "\n",
        "class StreamingGradioCallbackHandler(BaseCallbackHandler):\n",
        "    def __init__(self, q: SimpleQueue):\n",
        "        self.q = q\n",
        "        self.jarvis_answer = \"\"\n",
        "\n",
        "    def on_llm_start(\n",
        "        self, serialized: Dict[str, Any], prompts: List[str], **kwargs: Any\n",
        "    ) -> None:\n",
        "        # chat_history.append(HumanMessage(content=prompts[-1].split('Human:')[-1]))\n",
        "        # TODO: треба зробити split по \\n Шукати чанки з Human: i брати контент\n",
        "        # print(\"CHAT_HISTORY\", chat_history)\n",
        "        \"\"\"Run when LLM starts running. Clean the queue.\"\"\"\n",
        "        while not self.q.empty():\n",
        "            try:\n",
        "                self.q.get(block=False)\n",
        "            except Exception as e:\n",
        "                print(f\"Ecception in on_llm_start, {e}\")\n",
        "                continue\n",
        "                \n",
        "    def on_llm_new_token(self, token: str, **kwargs: Any) -> None:\n",
        "        \"\"\"Run on new LLM token. Only available when streaming is enabled.\"\"\"\n",
        "        self.q.put(token)\n",
        "        stream.feed(token)\n",
        "        self.jarvis_answer += token\n",
        "        # TODO: Не вiдповiдати коли приходять символи, тiльки текст\n",
        "        if not stream.is_playing():\n",
        "            stream.play_async()\n",
        "\n",
        "\n",
        "    def on_llm_end(self, response: LLMResult, **kwargs: Any) -> None:\n",
        "        \"\"\"Run when LLM ends running.\"\"\"\n",
        "        self.q.put(job_done)\n",
        "        chat_history.append(AIMessage(content=self.jarvis_answer))\n",
        "        self.jarvis_answer = \"\"\n",
        "\n",
        "    def on_llm_error(\n",
        "        self, error: Union[Exception, KeyboardInterrupt], **kwargs: Any\n",
        "    ) -> None:\n",
        "        \"\"\"Run when LLM errors.\"\"\"\n",
        "        self.q.put(job_done)"
      ]
    },
    {
      "cell_type": "markdown",
      "metadata": {
        "id": "SRjBXibPGtw4"
      },
      "source": [
        "Main Jarvis Model"
      ]
    },
    {
      "cell_type": "code",
      "execution_count": 1,
      "metadata": {
        "id": "kLNicLfQFx6M"
      },
      "outputs": [],
      "source": [
        "from langchain_mistralai.chat_models import ChatMistralAI\n",
        "from langchain_core.prompts import ChatPromptTemplate, MessagesPlaceholder\n",
        "from langchain.agents.format_scratchpad.openai_tools import format_to_openai_tool_messages\n",
        "from langchain.agents.output_parsers.openai_tools import OpenAIToolsAgentOutputParser\n",
        "from langchain.agents import AgentExecutor\n",
        "from langchain_core.messages import AIMessage, HumanMessage\n",
        "from langchain_core.callbacks.streaming_stdout import StreamingStdOutCallbackHandler\n",
        "from dotenv import load_dotenv\n",
        "import os\n",
        "\n",
        "load_dotenv()\n",
        "\n",
        "MISTRAL_API_KEY = os.getenv(\"MISTRAL_API\")\n",
        "\n",
        "class Jarvis:\n",
        "    def __init__(self, tools: list, chat_history: list[AIMessage | HumanMessage] = []):\n",
        "        self.chat_history = chat_history\n",
        "\n",
        "        self.llm = ChatMistralAI(\n",
        "            mistral_api_key=MISTRAL_API_KEY,\n",
        "            temperature=0,\n",
        "            model=\"mistral-large-latest\",\n",
        "            timeout=30,\n",
        "            max_tokens=5000,\n",
        "            callbacks=[StreamingGradioCallbackHandler(q), StreamingStdOutCallbackHandler()],\n",
        "            streaming=True)\n",
        "\n",
        "        self.prompt = ChatPromptTemplate.from_messages(\n",
        "            [\n",
        "                (\"system\", \"You are powerful assistant named 'Jarvis'\"),\n",
        "                MessagesPlaceholder(variable_name=\"chat_history\"),\n",
        "                (\"user\", \"{input}\"),\n",
        "                MessagesPlaceholder(variable_name=\"agent_scratchpad\"),\n",
        "            ]\n",
        "        )\n",
        "\n",
        "        self.llm_with_tools = self.llm.bind_tools(tools, tool_choice=\"auto\")\n",
        "\n",
        "        self.agent = (\n",
        "            {\n",
        "                \"input\": lambda x: x['input'],\n",
        "                \"agent_scratchpad\": lambda x: format_to_openai_tool_messages(\n",
        "                    x[\"intermediate_steps\"]\n",
        "                ),\n",
        "                \"chat_history\": lambda x: x['chat_history'],\n",
        "            } | self.prompt | self.llm_with_tools | OpenAIToolsAgentOutputParser()\n",
        "        )\n",
        "\n",
        "        self.agent_executor = AgentExecutor(\n",
        "            agent=self.agent,\n",
        "            tools=tools,\n",
        "            verbose=False, # TODO: True\n",
        "            max_iterations=5,\n",
        "            handle_parsing_errors=self._handle_error)\n",
        "\n",
        "    def _handle_error(error) -> str:\n",
        "        print('\\n\\n\\n\\n\\nERROR INSIDE LLM AGENT EXECUTOR', error)\n",
        "        return str(error)\n",
        "\n",
        "    def get_answer(self, user_prompt: str):\n",
        "        print(self.chat_history, \"CHAT HISTORY\")\n",
        "        yield from self.agent_executor.stream({\"input\": user_prompt, \"chat_history\": self.chat_history})"
      ]
    },
    {
      "cell_type": "markdown",
      "metadata": {
        "id": "Xlt6oT3XJWTm"
      },
      "source": [
        "Notes functionality"
      ]
    },
    {
      "cell_type": "code",
      "execution_count": 3,
      "metadata": {
        "colab": {
          "base_uri": "https://localhost:8080/"
        },
        "id": "cY_3HoEvJVfc",
        "outputId": "8010c9a2-02a2-43bb-b7fd-613bfcda1e05"
      },
      "outputs": [],
      "source": [
        "import os\n",
        "import peewee\n",
        "import datetime\n",
        "from playhouse.shortcuts import model_to_dict\n",
        "\n",
        "db = peewee.SqliteDatabase('notes.db')\n",
        "\n",
        "class BaseModel(peewee.Model):\n",
        "    class Meta:\n",
        "        database = db\n",
        "\n",
        "class NoteModel(BaseModel):\n",
        "    id = peewee.PrimaryKeyField()\n",
        "    created_date = peewee.DateTimeField(default=datetime.datetime.now)\n",
        "    title = peewee.CharField(unique=True)\n",
        "    content = peewee.TextField()\n",
        "\n",
        "\n",
        "class Singleton(type):\n",
        "    _instances = {}\n",
        "    def __call__(cls, *args, **kwargs):\n",
        "        if cls not in cls._instances:\n",
        "            cls._instances[cls] = super(Singleton, cls).__call__(*args, **kwargs)\n",
        "        return cls._instances[cls]\n",
        "\n",
        "\n",
        "class NoteManager(metaclass=Singleton):\n",
        "    def __init__(self, db_obj: peewee.SqliteDatabase, tables: list[peewee.ModelBase]) -> None:\n",
        "        if not isinstance(db_obj, peewee.SqliteDatabase):\n",
        "            raise TypeError(\"For now only peewee.SqliteDatabase is supported\")\n",
        "\n",
        "        self.db = db_obj\n",
        "\n",
        "        if not os.path.exists(self.db.database):\n",
        "            self.db.create_tables(tables)\n",
        "\n",
        "    def get_last_notes(self, amount: int = 1) -> list:\n",
        "        query = (NoteModel\n",
        "                 .select()\n",
        "                 .where(NoteModel.created_date <= datetime.datetime.now())\n",
        "                 .order_by(NoteModel.created_date.desc())\n",
        "                 .limit(amount))\n",
        "\n",
        "        return list(map(lambda x: model_to_dict(x), query))\n",
        "    \n",
        "    def update_note(self):\n",
        "        pass\n",
        "    \n",
        "    def get_note_by_title(self):\n",
        "        pass\n",
        "\n",
        "    def add_note(self, content: str, title: str = \"\") -> None:\n",
        "        try:\n",
        "            note = NoteModel.create(title=title, content=content)\n",
        "            return f\"Запись успешно добавлена: ID={note.id}, Title={note.title}, Created Date={note.created_date}\"\n",
        "        except peewee.IntegrityError as e:\n",
        "            return f\"There is an error occured when adding new note error: {e}\"\n",
        "\n",
        "note_manager = NoteManager(db, [NoteModel])\n",
        "# note_manager.add_note(\"Hello this is my second note\", \"Second note second\")\n",
        "# note_manager.get_last_notes(5)"
      ]
    },
    {
      "cell_type": "markdown",
      "metadata": {
        "id": "epyIWKvHGtHL"
      },
      "source": [
        "Tools that has Jarvis"
      ]
    },
    {
      "cell_type": "code",
      "execution_count": 4,
      "metadata": {
        "id": "zzIbqFZpGyC8"
      },
      "outputs": [],
      "source": [
        "from langchain.tools import StructuredTool\n",
        "from langchain.pydantic_v1 import BaseModel, Field\n",
        "from langchain.tools import DuckDuckGoSearchRun\n",
        "from langchain.agents import Tool\n",
        "\n",
        "\n",
        "class AddNotesSchema(BaseModel):\n",
        "    title: str = Field(description=\"Note title\", default=\"\")\n",
        "    content: str = Field(description=\"Note content\")\n",
        "\n",
        "class GetLastNotesSchema(BaseModel):\n",
        "    amount: int = Field(description=\"How many notes to get\", default=1)\n",
        "\n",
        "ddg_search = DuckDuckGoSearchRun()\n",
        "\n",
        "get_last_notes = StructuredTool.from_function(\n",
        "    func=note_manager.get_last_notes,\n",
        "    name=\"GetLastNotes\",\n",
        "    description=\"Getting few last notes or single last one\",\n",
        "    args_schema=GetLastNotesSchema,\n",
        "    return_direct=False,\n",
        ")\n",
        "add_note = StructuredTool.from_function(\n",
        "    func=note_manager.add_note,\n",
        "    name=\"AddNote\",\n",
        "    description=\"Adding or saving one new note to database\",\n",
        "    args_schema=AddNotesSchema,\n",
        "    return_direct=False,\n",
        ")\n",
        "\n",
        "search_tool = Tool(\n",
        "    name=\"DuckDuckGo_Search\",\n",
        "    func=ddg_search.run,\n",
        "    description=\"Useful to browse information from the Internet.\"\n",
        ")"
      ]
    },
    {
      "cell_type": "code",
      "execution_count": 10,
      "metadata": {
        "colab": {
          "base_uri": "https://localhost:8080/"
        },
        "id": "UdxC-Qwb2g8o",
        "outputId": "f1aa5bd7-3eaf-45f7-9356-3b092e97d02d"
      },
      "outputs": [
        {
          "name": "stdout",
          "output_type": "stream",
          "text": [
            "You can speak now ... \n",
            "Did you say  hey jarvis how tall is burj khalifa\n",
            "prompt='hey jarvis how tall is burj khalifa'\n",
            "[] CHAT HISTORY\n",
            "Opening stream\n",
            "Opening stream\n",
            "Opening stream\n",
            "Opening stream\n",
            "Opening stream\n",
            "Opening stream\n",
            "Opening stream\n",
            "Opening stream\n",
            "{'actions': [ToolAgentAction(tool='DuckDuckGo_Search', tool_input='burj khalifa height', log='\\nInvoking: `DuckDuckGo_Search` with `burj khalifa height`\\n\\n\\n', message_log=[AIMessageChunk(content='', additional_kwargs={'tool_calls': [{'id': 'WJSk3wBDX', 'function': {'name': 'DuckDuckGo_Search', 'arguments': '{\"__arg1\": \"burj khalifa height\"}'}}]}, id='run-6c53edb4-c0a7-40a1-8f93-28e677a688ee', tool_calls=[{'name': 'DuckDuckGo_Search', 'args': {'__arg1': 'burj khalifa height'}, 'id': 'WJSk3wBDX'}], tool_call_chunks=[{'name': 'DuckDuckGo_Search', 'args': '{\"__arg1\": \"burj khalifa height\"}', 'id': 'WJSk3wBDX', 'index': None}])], tool_call_id='WJSk3wBDX')], 'messages': [AIMessageChunk(content='', additional_kwargs={'tool_calls': [{'id': 'WJSk3wBDX', 'function': {'name': 'DuckDuckGo_Search', 'arguments': '{\"__arg1\": \"burj khalifa height\"}'}}]}, id='run-6c53edb4-c0a7-40a1-8f93-28e677a688ee', tool_calls=[{'name': 'DuckDuckGo_Search', 'args': {'__arg1': 'burj khalifa height'}, 'id': 'WJSk3wBDX'}], tool_call_chunks=[{'name': 'DuckDuckGo_Search', 'args': '{\"__arg1\": \"burj khalifa height\"}', 'id': 'WJSk3wBDX', 'index': None}])]}\n",
            "Opening stream\n",
            "Opening stream\n",
            "Opening stream\n",
            "Opening stream\n",
            "Opening stream\n",
            "Opening stream\n",
            "Opening stream\n",
            "Opening stream\n",
            "{'steps': [AgentStep(action=ToolAgentAction(tool='DuckDuckGo_Search', tool_input='burj khalifa height', log='\\nInvoking: `DuckDuckGo_Search` with `burj khalifa height`\\n\\n\\n', message_log=[AIMessageChunk(content='', additional_kwargs={'tool_calls': [{'id': 'WJSk3wBDX', 'function': {'name': 'DuckDuckGo_Search', 'arguments': '{\"__arg1\": \"burj khalifa height\"}'}}]}, id='run-6c53edb4-c0a7-40a1-8f93-28e677a688ee', tool_calls=[{'name': 'DuckDuckGo_Search', 'args': {'__arg1': 'burj khalifa height'}, 'id': 'WJSk3wBDX'}], tool_call_chunks=[{'name': 'DuckDuckGo_Search', 'args': '{\"__arg1\": \"burj khalifa height\"}', 'id': 'WJSk3wBDX', 'index': None}])], tool_call_id='WJSk3wBDX'), observation=\"Burj Khalifa, mixed-use skyscraper in Dubai, United Arab Emirates, that is the world's tallest building, according to all three of the main criteria by which such buildings are judged. ... Built to house a variety of commercial, residential, and hospitality ventures, the tower—whose intended height remained a closely guarded secret ... The 828-metre (2,717 ft) tall Burj Khalifa in Dubai has been the tallest building since 2010. The Burj Khalifa has been classified as megatall. A diagram showing the tallest buildings as of 2024. This is a list of the tallest buildings.Tall buildings, such as skyscrapers, are intended here as enclosed structures with continuously occupiable floors and a height of at least 340 metres (1,120 ft). Learn about the design, engineering, and history of Burj Khalifa, the iconic skyscraper in Dubai that holds the record for being the tallest building and structure in the world. The web page does not provide the exact height of Burj Khalifa in feet or meters. Burj Khalifa's height, reaching soaring heights that surpass all others, dominates the skyline of Dubai. Its construction in January 2010 marked a significant milestone in architectural history. From the highest occupied floor to the Burj Khalifa holding the title of Dubai's tallest building, each aspect showcases its unparalleled grandeur. ... The Burj Khalifa stands at a height of 2,716.5 feet (828 meters), according to Emaar Properties. The Burj Khalifa towers over Dubai's skyline at sunset on February 9, 2021. For a sense of scale, that's more than twice the height of the Empire State Building and almost three times the height of the Eiffel Tower, Guinness World Records reports.\")], 'messages': [FunctionMessage(content=\"Burj Khalifa, mixed-use skyscraper in Dubai, United Arab Emirates, that is the world's tallest building, according to all three of the main criteria by which such buildings are judged. ... Built to house a variety of commercial, residential, and hospitality ventures, the tower—whose intended height remained a closely guarded secret ... The 828-metre (2,717 ft) tall Burj Khalifa in Dubai has been the tallest building since 2010. The Burj Khalifa has been classified as megatall. A diagram showing the tallest buildings as of 2024. This is a list of the tallest buildings.Tall buildings, such as skyscrapers, are intended here as enclosed structures with continuously occupiable floors and a height of at least 340 metres (1,120 ft). Learn about the design, engineering, and history of Burj Khalifa, the iconic skyscraper in Dubai that holds the record for being the tallest building and structure in the world. The web page does not provide the exact height of Burj Khalifa in feet or meters. Burj Khalifa's height, reaching soaring heights that surpass all others, dominates the skyline of Dubai. Its construction in January 2010 marked a significant milestone in architectural history. From the highest occupied floor to the Burj Khalifa holding the title of Dubai's tallest building, each aspect showcases its unparalleled grandeur. ... The Burj Khalifa stands at a height of 2,716.5 feet (828 meters), according to Emaar Properties. The Burj Khalifa towers over Dubai's skyline at sunset on February 9, 2021. For a sense of scale, that's more than twice the height of the Empire State Building and almost three times the height of the Eiffel Tower, Guinness World Records reports.\", name='DuckDuckGo_Search')]}\n",
            "Opening stream\n",
            "Opening stream\n",
            "The Burj Khalifa,Opening stream\n",
            " located in Dubai, United Arab Emirates, stands at a height of 2,716.5 feet (828 meters). It has been the tallest building in the world since 2010.{'output': 'The Burj Khalifa, located in Dubai, United Arab Emirates, stands at a height of 2,716.5 feet (828 meters). It has been the tallest building in the world since 2010.', 'messages': [AIMessage(content='The Burj Khalifa, located in Dubai, United Arab Emirates, stands at a height of 2,716.5 feet (828 meters). It has been the tallest building in the world since 2010.')]}\n"
          ]
        },
        {
          "name": "stdout",
          "output_type": "stream",
          "text": [
            "Opening stream\n"
          ]
        }
      ],
      "source": [
        "from voice_listener import get_text_from_speech\n",
        "jarvis = Jarvis(tools=[add_note, get_last_notes, search_tool])\n",
        "prompt = get_text_from_speech()\n",
        "print(f\"{prompt=}\")\n",
        "for chunk in jarvis.get_answer(user_prompt=prompt):\n",
        "    print(chunk)"
      ]
    },
    {
      "cell_type": "markdown",
      "metadata": {
        "id": "mIulmuMCtqaV"
      },
      "source": [
        "Text to speech with realtime tts"
      ]
    }
  ],
  "metadata": {
    "colab": {
      "provenance": []
    },
    "kernelspec": {
      "display_name": "Python 3",
      "name": "python3"
    },
    "language_info": {
      "codemirror_mode": {
        "name": "ipython",
        "version": 3
      },
      "file_extension": ".py",
      "mimetype": "text/x-python",
      "name": "python",
      "nbconvert_exporter": "python",
      "pygments_lexer": "ipython3",
      "version": "3.10.1"
    }
  },
  "nbformat": 4,
  "nbformat_minor": 0
}
